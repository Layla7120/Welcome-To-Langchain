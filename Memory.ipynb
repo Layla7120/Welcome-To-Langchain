{
 "cells": [
  {
   "cell_type": "code",
   "id": "initial_id",
   "metadata": {
    "collapsed": true,
    "ExecuteTime": {
     "end_time": "2025-01-08T01:54:35.335812Z",
     "start_time": "2025-01-08T01:54:35.329193Z"
    }
   },
   "source": [
    "from langchain.chat_models import ChatOpenAI\n",
    "from langchain.globals import set_llm_cache\n",
    "from langchain.cache import SQLiteCache\n",
    "\n",
    "from dotenv import load_dotenv\n",
    "from langchain.memory import ConversationSummaryBufferMemory\n",
    "from langchain.prompts import ChatPromptTemplate, FewShotChatMessagePromptTemplate, PromptTemplate\n",
    "\n",
    "from langchain.prompts import MessagesPlaceholder\n",
    "from langchain.schema.runnable import RunnablePassthrough\n",
    "\n",
    "load_dotenv()"
   ],
   "outputs": [
    {
     "data": {
      "text/plain": [
       "True"
      ]
     },
     "execution_count": 45,
     "metadata": {},
     "output_type": "execute_result"
    }
   ],
   "execution_count": 45
  },
  {
   "metadata": {
    "ExecuteTime": {
     "end_time": "2025-01-08T01:54:35.351447Z",
     "start_time": "2025-01-08T01:54:35.345730Z"
    }
   },
   "cell_type": "code",
   "source": [
    "set_llm_cache(SQLiteCache(\"cache.db\"))\n",
    "\n",
    "chat = ChatOpenAI(\n",
    "    temperature = 0.1,\n",
    ")\n",
    "\n",
    "memory = ConversationSummaryBufferMemory(\n",
    "    llm = chat,\n",
    "    max_token_limit = 80,\n",
    "    return_messages = True\n",
    ")"
   ],
   "id": "d628597bfc267d60",
   "outputs": [],
   "execution_count": 46
  },
  {
   "metadata": {
    "ExecuteTime": {
     "end_time": "2025-01-08T01:54:35.364672Z",
     "start_time": "2025-01-08T01:54:35.360052Z"
    }
   },
   "cell_type": "code",
   "source": [
    "examples = [\n",
    "    {\n",
    "        \"movie\": \"Wicked\",\n",
    "        \"answer\": \"👠✨🧙‍♀️\"\n",
    "    },\n",
    "    {\n",
    "        \"movie\": \"venom3\",\n",
    "        \"answer\": \"🕷️🖤🔥\"\n",
    "    }\n",
    "]\n",
    "\n",
    "example_chat_prompt = ChatPromptTemplate.from_messages(\n",
    "    [\n",
    "        (\"human\", \"Express the movie {movie}\"),\n",
    "        (\"ai\", \"{answer}\"),\n",
    "    ]\n",
    ")\n",
    "\n",
    "example_prompt = FewShotChatMessagePromptTemplate(\n",
    "    example_prompt = example_chat_prompt,\n",
    "    examples=examples,\n",
    ")\n",
    "\n",
    "final_prompt = ChatPromptTemplate.from_messages(\n",
    "    [\n",
    "        (\"system\", \"You speak with only 3 emojis.\"),\n",
    "        example_prompt,\n",
    "        # return_messages 를 받아 오는 데 몇개가 올지 모르는 상황\n",
    "        MessagesPlaceholder(variable_name = \"history\"),\n",
    "        (\"human\", \"Express the movie {movie}\"),\n",
    "    ]\n",
    ")\n",
    "\n",
    "def load_memory(_):\n",
    "    return memory.load_memory_variables({})[\"history\"]\n",
    "\n",
    "chain = RunnablePassthrough.assign(history = load_memory) | final_prompt | chat\n",
    "\n",
    "def invoke_chain(question):\n",
    "    result = chain.invoke({\"movie\": question})\n",
    "    memory.save_context(\n",
    "        {\"input\": question},\n",
    "        {\"output\": result.content},\n",
    "    )\n",
    "    print(result)"
   ],
   "id": "e7b255f841c0005e",
   "outputs": [],
   "execution_count": 47
  },
  {
   "metadata": {
    "ExecuteTime": {
     "end_time": "2025-01-08T01:54:35.378838Z",
     "start_time": "2025-01-08T01:54:35.372412Z"
    }
   },
   "cell_type": "code",
   "source": "invoke_chain(\"Les Miserables\")",
   "id": "16fb9f1b4cc982ee",
   "outputs": [
    {
     "name": "stdout",
     "output_type": "stream",
     "text": [
      "content='🇫🇷⚔️🎶'\n"
     ]
    }
   ],
   "execution_count": 48
  },
  {
   "metadata": {
    "ExecuteTime": {
     "end_time": "2025-01-08T01:54:35.448780Z",
     "start_time": "2025-01-08T01:54:35.442748Z"
    }
   },
   "cell_type": "code",
   "source": "invoke_chain(\"Harry Potter and the Half Blood Prince\")",
   "id": "347750a32416aade",
   "outputs": [
    {
     "name": "stdout",
     "output_type": "stream",
     "text": [
      "content='⚡🔮🐍'\n"
     ]
    }
   ],
   "execution_count": 49
  },
  {
   "metadata": {
    "ExecuteTime": {
     "end_time": "2025-01-08T01:54:35.525734Z",
     "start_time": "2025-01-08T01:54:35.518101Z"
    }
   },
   "cell_type": "code",
   "source": "invoke_chain(\"The first movie I asked you.\")",
   "id": "3d64af383bb1b497",
   "outputs": [
    {
     "name": "stdout",
     "output_type": "stream",
     "text": [
      "content='👠✨🧙\\u200d♀️'\n"
     ]
    }
   ],
   "execution_count": 50
  }
 ],
 "metadata": {
  "kernelspec": {
   "display_name": "Python 3",
   "language": "python",
   "name": "python3"
  },
  "language_info": {
   "codemirror_mode": {
    "name": "ipython",
    "version": 2
   },
   "file_extension": ".py",
   "mimetype": "text/x-python",
   "name": "python",
   "nbconvert_exporter": "python",
   "pygments_lexer": "ipython2",
   "version": "2.7.6"
  }
 },
 "nbformat": 4,
 "nbformat_minor": 5
}
