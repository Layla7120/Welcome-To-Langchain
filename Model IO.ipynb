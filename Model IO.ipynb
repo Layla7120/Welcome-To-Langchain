{
 "cells": [
  {
   "cell_type": "code",
   "id": "initial_id",
   "metadata": {
    "collapsed": true,
    "ExecuteTime": {
     "end_time": "2025-01-07T02:27:25.517985Z",
     "start_time": "2025-01-07T02:27:24.723084Z"
    }
   },
   "source": [
    "from langchain.chat_models import ChatOpenAI\n",
    "from langchain.callbacks import StreamingStdOutCallbackHandler\n",
    "from langchain.globals import set_llm_cache, set_debug\n",
    "from langchain.cache import SQLiteCache\n",
    "\n",
    "from dotenv import load_dotenv\n",
    "from langchain.prompts import ChatPromptTemplate, FewShotChatMessagePromptTemplate\n",
    "\n",
    "load_dotenv()"
   ],
   "outputs": [
    {
     "data": {
      "text/plain": [
       "True"
      ]
     },
     "execution_count": 1,
     "metadata": {},
     "output_type": "execute_result"
    }
   ],
   "execution_count": 1
  },
  {
   "metadata": {
    "ExecuteTime": {
     "end_time": "2025-01-07T02:27:25.545951Z",
     "start_time": "2025-01-07T02:27:25.523176Z"
    }
   },
   "cell_type": "code",
   "source": [
    "set_llm_cache(SQLiteCache(\"cache.db\"))\n",
    "# set_debug(True)\n",
    "\n",
    "chat = ChatOpenAI(\n",
    "    temperature = 0.1,\n",
    "    # streaming = True,\n",
    "    # callbacks = [\n",
    "    #     StreamingStdOutCallbackHandler(),\n",
    "    # ]\n",
    ")\n"
   ],
   "id": "8c51f7cf4ddecbfb",
   "outputs": [],
   "execution_count": 2
  },
  {
   "metadata": {
    "ExecuteTime": {
     "end_time": "2025-01-07T02:28:05.939171Z",
     "start_time": "2025-01-07T02:28:05.925143Z"
    }
   },
   "cell_type": "code",
   "source": [
    "examples = [\n",
    "    {\n",
    "        \"movie\": \"Don't look up\",\n",
    "        \"answer\": \"Don't Look Up (2021) is an American apocalyptic political satire black comedy film directed by Adam McKay. The film features an ensemble cast including Leonardo DiCaprio, Jennifer Lawrence, Meryl Streep, and Cate Blanchett. With a production budget of $75 million, the movie grossed approximately $791,863. It falls under the genres of satire, comedy, and drama. \\n Synopsis: Don't Look Up follows two astronomers who discover a comet on a collision course with Earth. Despite their desperate efforts to warn humanity of the impending disaster, they face widespread indifference, denial, and political manipulation, reflecting society's challenges in confronting existential crises.\"\n",
    "    },\n",
    "    {\n",
    "        \"movie\": \"Wicked\",\n",
    "        \"answer\": \"Wicked (2024) is an American musical fantasy film directed by Jon M. Chu. The movie stars Cynthia Erivo as Elphaba, Ariana Grande as Glinda, Jonathan Bailey as Fiyero, Jeff Goldblum as the Wizard, and Michelle Yeoh as Madame Morrible. With a production budget of approximately $145 million, the film grossed over $600 million worldwide. It belongs to the genres of musical, fantasy, and drama. \\n Synopsis: Wicked explores the untold story of the witches of Oz, focusing on the unlikely friendship between Elphaba, a green-skinned young woman with extraordinary powers, and Glinda, a charismatic and ambitious girl. The story highlights their journey through love, ambition, and rivalry, ultimately leading them to their iconic destinies as the Wicked Witch of the West and Glinda the Good Witch.\"\n",
    "    },\n",
    "]\n",
    "\n",
    "example_chat_prompt = ChatPromptTemplate.from_messages(\n",
    "    [\n",
    "        (\"human\", \"What do you know about {movie}?\"),\n",
    "        (\"ai\", \"{answer}\")\n",
    "    ]\n",
    ")\n",
    "\n",
    "example_prompt = FewShotChatMessagePromptTemplate(\n",
    "    example_prompt = example_chat_prompt,\n",
    "    examples=examples,\n",
    ")\n",
    "\n",
    "final_prompt = ChatPromptTemplate.from_messages(\n",
    "    [\n",
    "        (\"system\", \"You are movie expert, you give short answers.\"),\n",
    "        example_prompt,\n",
    "        (\"human\", \"What do you know about {movie}?\"),\n",
    "    ]\n",
    ")\n",
    "\n",
    "chain = final_prompt | chat\n",
    "chain.invoke({\"movie\": \"Moana 2\"})"
   ],
   "id": "2ec9538fb2e20eb0",
   "outputs": [
    {
     "data": {
      "text/plain": [
       "AIMessage(content='As of now, there is no official confirmation or announcement regarding a sequel to the animated film Moana (2016). The original movie, directed by Ron Clements and John Musker, follows the adventurous journey of a young Polynesian girl named Moana as she sets sail across the ocean to save her island and discover her true identity. The film was well-received by audiences and critics, grossing over $690 million worldwide. While there have been rumors and speculations about a potential sequel, Disney has not confirmed any plans for Moana 2 at this time.')"
      ]
     },
     "execution_count": 5,
     "metadata": {},
     "output_type": "execute_result"
    }
   ],
   "execution_count": 5
  }
 ],
 "metadata": {
  "kernelspec": {
   "display_name": "Python 3",
   "language": "python",
   "name": "python3"
  },
  "language_info": {
   "codemirror_mode": {
    "name": "ipython",
    "version": 2
   },
   "file_extension": ".py",
   "mimetype": "text/x-python",
   "name": "python",
   "nbconvert_exporter": "python",
   "pygments_lexer": "ipython2",
   "version": "2.7.6"
  }
 },
 "nbformat": 4,
 "nbformat_minor": 5
}
