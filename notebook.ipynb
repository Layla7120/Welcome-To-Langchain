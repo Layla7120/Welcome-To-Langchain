{
 "cells": [
  {
   "cell_type": "code",
   "id": "initial_id",
   "metadata": {
    "collapsed": true,
    "ExecuteTime": {
     "end_time": "2025-01-06T02:25:25.773050Z",
     "start_time": "2025-01-06T02:25:25.765967Z"
    }
   },
   "source": [
    "from langchain.chat_models import ChatOpenAI\n",
    "from langchain.prompts import ChatPromptTemplate\n",
    "from langchain.callbacks import StreamingStdOutCallbackHandler\n",
    "\n",
    "chat = ChatOpenAI(\n",
    "    temperature = 0.1,\n",
    "    streaming = True,\n",
    "    callbacks = [\n",
    "        StreamingStdOutCallbackHandler(),\n",
    "        ],\n",
    "    model =  \"gpt-3.5-turbo\",\n",
    ")"
   ],
   "outputs": [],
   "execution_count": 36
  },
  {
   "metadata": {
    "ExecuteTime": {
     "end_time": "2025-01-06T02:25:25.789061Z",
     "start_time": "2025-01-06T02:25:25.784065Z"
    }
   },
   "cell_type": "code",
   "source": [
    "haiku_maker_prompt = ChatPromptTemplate.from_messages(\n",
    "    [\n",
    "        (\n",
    "            \"system\",\n",
    "            \"You are a Haiku writer that is specialized in writing about {programming_language}. You should write a haiku without any extra explanation.\",\n",
    "        ),\n",
    "        (\"human\", \"I want a haiku about {programming_language}.\"),\n",
    "    ]\n",
    ")\n",
    "\n",
    "haiku_chain = haiku_maker_prompt | chat"
   ],
   "id": "f13ac4b226cc990b",
   "outputs": [],
   "execution_count": 37
  },
  {
   "metadata": {
    "ExecuteTime": {
     "end_time": "2025-01-06T02:25:29.243226Z",
     "start_time": "2025-01-06T02:25:25.801015Z"
    }
   },
   "cell_type": "code",
   "source": [
    "haiku_explainer_prompt = ChatPromptTemplate.from_messages(\n",
    "    [\n",
    "        (\n",
    "            \"system\",\n",
    "            \"You are a Haiku expert, specializing in explaining the meaning of programming language-themed haikus. Upon receiving a haiku, your task is to interpret its meaning and explore the reasoning or inspiration behind its creation.\",\n",
    "        ),\n",
    "        (\"human\", \"Explain this {haiku}.\"),\n",
    "    ]\n",
    ")\n",
    "\n",
    "haiku_explainer = haiku_explainer_prompt | chat\n",
    "\n",
    "final_chain = {\"haiku\": haiku_chain} | haiku_explainer\n",
    "\n",
    "final_chain.invoke({\"programming_language\": \"Python\"})"
   ],
   "id": "7e27addfb1c14188",
   "outputs": [
    {
     "name": "stdout",
     "output_type": "stream",
     "text": [
      "Indentation rules,\n",
      "Elegant and powerful,\n",
      "Python code flows smooth.This haiku beautifully captures the essence of Python programming, focusing on the significance of indentation in the language. In Python, indentation is not just a matter of style but a fundamental aspect of the syntax. The use of whitespace to define code blocks makes Python code visually appealing and easy to read, contributing to its elegance and power.\n",
      "\n",
      "The first line, \"Indentation rules,\" emphasizes the importance of proper indentation in Python. It serves as a reminder that the structure of the code is determined by the indentation level, unlike other languages that use curly braces or keywords to denote code blocks.\n",
      "\n",
      "The second line, \"Elegant and powerful,\" highlights the beauty and efficiency of Python's design. The simplicity and readability of Python code, facilitated by indentation, make it a popular choice for developers across various domains.\n",
      "\n",
      "Finally, the last line, \"Python code flows smooth,\" suggests that with the correct indentation, Python code flows seamlessly from one block to another, enhancing the overall programming experience. This haiku celebrates the unique feature of Python that sets it apart from other programming languages and contributes to its widespread adoption and popularity."
     ]
    },
    {
     "data": {
      "text/plain": [
       "AIMessageChunk(content='This haiku beautifully captures the essence of Python programming, focusing on the significance of indentation in the language. In Python, indentation is not just a matter of style but a fundamental aspect of the syntax. The use of whitespace to define code blocks makes Python code visually appealing and easy to read, contributing to its elegance and power.\\n\\nThe first line, \"Indentation rules,\" emphasizes the importance of proper indentation in Python. It serves as a reminder that the structure of the code is determined by the indentation level, unlike other languages that use curly braces or keywords to denote code blocks.\\n\\nThe second line, \"Elegant and powerful,\" highlights the beauty and efficiency of Python\\'s design. The simplicity and readability of Python code, facilitated by indentation, make it a popular choice for developers across various domains.\\n\\nFinally, the last line, \"Python code flows smooth,\" suggests that with the correct indentation, Python code flows seamlessly from one block to another, enhancing the overall programming experience. This haiku celebrates the unique feature of Python that sets it apart from other programming languages and contributes to its widespread adoption and popularity.')"
      ]
     },
     "execution_count": 38,
     "metadata": {},
     "output_type": "execute_result"
    }
   ],
   "execution_count": 38
  },
  {
   "metadata": {
    "ExecuteTime": {
     "end_time": "2025-01-06T02:25:29.255181Z",
     "start_time": "2025-01-06T02:25:29.253059Z"
    }
   },
   "cell_type": "code",
   "source": "",
   "id": "5aa9c2a8d1f24955",
   "outputs": [],
   "execution_count": null
  }
 ],
 "metadata": {
  "kernelspec": {
   "display_name": "Python 3",
   "language": "python",
   "name": "python3"
  },
  "language_info": {
   "codemirror_mode": {
    "name": "ipython",
    "version": 2
   },
   "file_extension": ".py",
   "mimetype": "text/x-python",
   "name": "python",
   "nbconvert_exporter": "python",
   "pygments_lexer": "ipython2",
   "version": "2.7.6"
  }
 },
 "nbformat": 4,
 "nbformat_minor": 5
}
